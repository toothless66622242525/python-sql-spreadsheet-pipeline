{
 "cells": [
  {
   "cell_type": "code",
   "execution_count": 1,
   "id": "8f7a0a7c-ba8c-4b8c-b3bf-b1a9d9fb3a16",
   "metadata": {},
   "outputs": [],
   "source": [
    "import pandas as pd"
   ]
  },
  {
   "cell_type": "code",
   "execution_count": 2,
   "id": "90b78a6c-bb3c-4359-a534-8e3837233078",
   "metadata": {},
   "outputs": [],
   "source": [
    "import sqlite3"
   ]
  },
  {
   "cell_type": "code",
   "execution_count": 3,
   "id": "b827fd0b-adb8-4a6a-ac92-7bf23cb2a1f0",
   "metadata": {},
   "outputs": [],
   "source": [
    "conn = sqlite3.connect('tennis_data.db')"
   ]
  },
  {
   "cell_type": "code",
   "execution_count": 4,
   "id": "19ce0297-0828-4f74-ac58-bac35eac71b1",
   "metadata": {},
   "outputs": [],
   "source": [
    "shelton_query = \"\"\"\n",
    "SELECT * \n",
    "FROM matches\n",
    "WHERE (Player_1 = 'Shelton B.' OR Player_2 = 'Shelton B.')\n",
    "\"\"\""
   ]
  },
  {
   "cell_type": "code",
   "execution_count": 5,
   "id": "d9b3f7d5-69e0-4b91-92e1-4e1d482ec1cf",
   "metadata": {},
   "outputs": [],
   "source": [
    "df_shelton = pd.read_sql(shelton_query, conn)"
   ]
  },
  {
   "cell_type": "code",
   "execution_count": 6,
   "id": "1b33423c-bd67-4e8c-b7cf-5165709994b1",
   "metadata": {},
   "outputs": [],
   "source": [
    "conn.close()"
   ]
  },
  {
   "cell_type": "code",
   "execution_count": 7,
   "id": "7197d561-d184-43a7-aec3-ee448703546d",
   "metadata": {},
   "outputs": [],
   "source": [
    "df_shelton['Shelton_Won'] = (df_shelton['Winner'] == 'Shelton B.').astype(int)"
   ]
  },
  {
   "cell_type": "code",
   "execution_count": 8,
   "id": "1e87c135-7034-444b-859a-b2ec0267fa6b",
   "metadata": {},
   "outputs": [],
   "source": [
    "surface_stats = df_shelton.groupby('Surface')['Shelton_Won'].agg(['count', 'sum', 'mean'])"
   ]
  },
  {
   "cell_type": "code",
   "execution_count": 9,
   "id": "6cddcfb7-e14e-455b-8c7a-44f0759e35a6",
   "metadata": {},
   "outputs": [],
   "source": [
    "surface_stats.columns = ['Total Matches', 'Wins', 'Win Rate']"
   ]
  },
  {
   "cell_type": "code",
   "execution_count": 10,
   "id": "b7d49ab9-2b01-4b1d-8ea9-d9b1acdce043",
   "metadata": {},
   "outputs": [
    {
     "data": {
      "text/html": [
       "<div>\n",
       "<style scoped>\n",
       "    .dataframe tbody tr th:only-of-type {\n",
       "        vertical-align: middle;\n",
       "    }\n",
       "\n",
       "    .dataframe tbody tr th {\n",
       "        vertical-align: top;\n",
       "    }\n",
       "\n",
       "    .dataframe thead th {\n",
       "        text-align: right;\n",
       "    }\n",
       "</style>\n",
       "<table border=\"1\" class=\"dataframe\">\n",
       "  <thead>\n",
       "    <tr style=\"text-align: right;\">\n",
       "      <th></th>\n",
       "      <th>Total Matches</th>\n",
       "      <th>Wins</th>\n",
       "      <th>Win Rate</th>\n",
       "    </tr>\n",
       "    <tr>\n",
       "      <th>Surface</th>\n",
       "      <th></th>\n",
       "      <th></th>\n",
       "      <th></th>\n",
       "    </tr>\n",
       "  </thead>\n",
       "  <tbody>\n",
       "    <tr>\n",
       "      <th>Clay</th>\n",
       "      <td>32</td>\n",
       "      <td>16</td>\n",
       "      <td>50.000000</td>\n",
       "    </tr>\n",
       "    <tr>\n",
       "      <th>Grass</th>\n",
       "      <td>23</td>\n",
       "      <td>12</td>\n",
       "      <td>52.173913</td>\n",
       "    </tr>\n",
       "    <tr>\n",
       "      <th>Hard</th>\n",
       "      <td>99</td>\n",
       "      <td>60</td>\n",
       "      <td>60.606061</td>\n",
       "    </tr>\n",
       "  </tbody>\n",
       "</table>\n",
       "</div>"
      ],
      "text/plain": [
       "         Total Matches  Wins   Win Rate\n",
       "Surface                                \n",
       "Clay                32    16  50.000000\n",
       "Grass               23    12  52.173913\n",
       "Hard                99    60  60.606061"
      ]
     },
     "metadata": {},
     "output_type": "display_data"
    }
   ],
   "source": [
    "surface_stats['Win Rate'] = surface_stats['Win Rate'] * 100\n",
    "\n",
    "display(surface_stats)"
   ]
  },
  {
   "cell_type": "code",
   "execution_count": 11,
   "id": "0a37bea2-9717-400d-a459-0b069cad6ccb",
   "metadata": {},
   "outputs": [],
   "source": [
    "# --- STEP 1: AUTNHETIFICATION ---\n",
    "\n",
    "import gspread\n",
    "from google.oauth2.service_account import Credentials\n",
    "import pandas as pd\n",
    "\n",
    "scopes = [\n",
    "    'https://www.googleapis.com/auth/spreadsheets',\n",
    "    'https://www.googleapis.com/auth/drive'\n",
    "]\n",
    "\n",
    "credentials = Credentials.from_service_account_file(\n",
    "    'google.json',\n",
    "    scopes=scopes\n",
    ")\n",
    "\n",
    "gc = gspread.authorize(credentials)"
   ]
  },
  {
   "cell_type": "code",
   "execution_count": 12,
   "id": "97bd0dd0-3263-40aa-8f2e-60009170d57f",
   "metadata": {},
   "outputs": [],
   "source": [
    "# --- STEP 2: SELECT TABLE ---\n",
    "spreadsheet = gc.open('Tennis Reports')\n",
    "\n",
    "worksheet = spreadsheet.sheet1 "
   ]
  },
  {
   "cell_type": "code",
   "execution_count": 13,
   "id": "65846e24-6909-4659-985b-c22972f8b74d",
   "metadata": {},
   "outputs": [
    {
     "name": "stderr",
     "output_type": "stream",
     "text": [
      "C:\\Temp\\ipykernel_16092\\50070434.py:12: DeprecationWarning: The order of arguments in worksheet.update() has changed. Please pass values first and range_name secondor used named arguments (range_name=, values=)\n",
      "  worksheet.update('A1', data_to_upload)\n"
     ]
    },
    {
     "data": {
      "text/plain": [
       "{'spreadsheetId': '1MBGrd2kTAVhTbL0XvQpJxchrSXmIdxlkUlrHqmbRHAE',\n",
       " 'updatedRange': 'Sheet1!A1:D4',\n",
       " 'updatedRows': 4,\n",
       " 'updatedColumns': 4,\n",
       " 'updatedCells': 16}"
      ]
     },
     "execution_count": 13,
     "metadata": {},
     "output_type": "execute_result"
    }
   ],
   "source": [
    "# --- STEP 3: UPLOADING DATA ---\n",
    "worksheet.clear()\n",
    "\n",
    "final_report = surface_stats.reset_index()\n",
    "\n",
    "headers = final_report.columns.values.tolist()\n",
    "\n",
    "values = final_report.values.tolist()\n",
    "\n",
    "data_to_upload = [headers] + values\n",
    "\n",
    "worksheet.update('A1', data_to_upload)"
   ]
  },
  {
   "cell_type": "code",
   "execution_count": 14,
   "id": "5d52a604-0199-40d8-a475-d68a44b7f4dc",
   "metadata": {},
   "outputs": [
    {
     "name": "stdout",
     "output_type": "stream",
     "text": [
      "Report successufully uploaded to Google Sheets!\n",
      "Link to the report: https://docs.google.com/spreadsheets/d/1MBGrd2kTAVhTbL0XvQpJxchrSXmIdxlkUlrHqmbRHAE\n"
     ]
    }
   ],
   "source": [
    "print(\"Report successufully uploaded to Google Sheets!\")\n",
    "print(f\"Link to the report: https://docs.google.com/spreadsheets/d/{spreadsheet.id}\")\n"
   ]
  },
  {
   "cell_type": "code",
   "execution_count": null,
   "id": "32e2a457-bc41-40c6-ac5a-3e903bf65b35",
   "metadata": {},
   "outputs": [],
   "source": []
  }
 ],
 "metadata": {
  "kernelspec": {
   "display_name": "Python [conda env:base] *",
   "language": "python",
   "name": "conda-base-py"
  },
  "language_info": {
   "codemirror_mode": {
    "name": "ipython",
    "version": 3
   },
   "file_extension": ".py",
   "mimetype": "text/x-python",
   "name": "python",
   "nbconvert_exporter": "python",
   "pygments_lexer": "ipython3",
   "version": "3.13.5"
  }
 },
 "nbformat": 4,
 "nbformat_minor": 5
}
